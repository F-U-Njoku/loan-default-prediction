{
 "cells": [
  {
   "cell_type": "code",
   "execution_count": 11,
   "id": "89dc9c05",
   "metadata": {},
   "outputs": [],
   "source": [
    "import pandas as pd"
   ]
  },
  {
   "cell_type": "markdown",
   "id": "69d9d88d",
   "metadata": {},
   "source": [
    "### Data Ingestion"
   ]
  },
  {
   "cell_type": "code",
   "execution_count": 10,
   "id": "9d661210",
   "metadata": {},
   "outputs": [
    {
     "name": "stdout",
     "output_type": "stream",
     "text": [
      "testdemographics.csv  testprevloans.csv      trainperf.csv\r\n",
      "testperf.csv\t      traindemographics.csv  trainprevloans.csv\r\n"
     ]
    }
   ],
   "source": [
    "!ls data"
   ]
  },
  {
   "cell_type": "markdown",
   "id": "6da2aba9",
   "metadata": {},
   "source": [
    "### Demographics data"
   ]
  },
  {
   "cell_type": "code",
   "execution_count": 23,
   "id": "373e5c5c",
   "metadata": {},
   "outputs": [],
   "source": [
    "df_demo = pd.read_csv(\"data/traindemographics.csv\").drop_duplicates()"
   ]
  },
  {
   "cell_type": "code",
   "execution_count": 24,
   "id": "f16722de",
   "metadata": {
    "scrolled": true
   },
   "outputs": [
    {
     "data": {
      "text/plain": [
       "Index(['customerid', 'birthdate', 'bank_account_type', 'longitude_gps',\n",
       "       'latitude_gps', 'bank_name_clients', 'bank_branch_clients',\n",
       "       'employment_status_clients', 'level_of_education_clients'],\n",
       "      dtype='object')"
      ]
     },
     "execution_count": 24,
     "metadata": {},
     "output_type": "execute_result"
    }
   ],
   "source": [
    "df_demo.columns"
   ]
  },
  {
   "cell_type": "code",
   "execution_count": 25,
   "id": "f0db2bdb",
   "metadata": {},
   "outputs": [
    {
     "name": "stdout",
     "output_type": "stream",
     "text": [
      "(4334, 9)\n",
      "4334\n"
     ]
    }
   ],
   "source": [
    "print(df_demo.shape)\n",
    "print(df_demo.customerid.nunique())"
   ]
  },
  {
   "cell_type": "markdown",
   "id": "5ce583f9",
   "metadata": {},
   "source": [
    "### Previous Loans data"
   ]
  },
  {
   "cell_type": "code",
   "execution_count": 26,
   "id": "52e909d5",
   "metadata": {},
   "outputs": [],
   "source": [
    "df_prev = pd.read_csv(\"data/trainprevloans.csv\").drop_duplicates()"
   ]
  },
  {
   "cell_type": "code",
   "execution_count": 17,
   "id": "3607881a",
   "metadata": {},
   "outputs": [
    {
     "data": {
      "text/plain": [
       "Index(['customerid', 'systemloanid', 'loannumber', 'approveddate',\n",
       "       'creationdate', 'loanamount', 'totaldue', 'termdays', 'closeddate',\n",
       "       'referredby', 'firstduedate', 'firstrepaiddate'],\n",
       "      dtype='object')"
      ]
     },
     "execution_count": 17,
     "metadata": {},
     "output_type": "execute_result"
    }
   ],
   "source": [
    "df_prev.columns"
   ]
  },
  {
   "cell_type": "code",
   "execution_count": 27,
   "id": "41bf333f",
   "metadata": {},
   "outputs": [
    {
     "name": "stdout",
     "output_type": "stream",
     "text": [
      "(18183, 12)\n",
      "4359\n"
     ]
    }
   ],
   "source": [
    "print(df_prev.shape)\n",
    "print(df_prev.customerid.nunique())"
   ]
  },
  {
   "cell_type": "markdown",
   "id": "1f323446",
   "metadata": {},
   "source": [
    "### Performance data"
   ]
  },
  {
   "cell_type": "code",
   "execution_count": 28,
   "id": "a0d659e3",
   "metadata": {},
   "outputs": [],
   "source": [
    "df_perf = pd.read_csv(\"data/trainperf.csv\").drop_duplicates()"
   ]
  },
  {
   "cell_type": "code",
   "execution_count": 29,
   "id": "135485bb",
   "metadata": {},
   "outputs": [
    {
     "data": {
      "text/plain": [
       "Index(['customerid', 'systemloanid', 'loannumber', 'approveddate',\n",
       "       'creationdate', 'loanamount', 'totaldue', 'termdays', 'referredby',\n",
       "       'good_bad_flag'],\n",
       "      dtype='object')"
      ]
     },
     "execution_count": 29,
     "metadata": {},
     "output_type": "execute_result"
    }
   ],
   "source": [
    "df_perf.columns"
   ]
  },
  {
   "cell_type": "code",
   "execution_count": 30,
   "id": "f71428e6",
   "metadata": {},
   "outputs": [
    {
     "name": "stdout",
     "output_type": "stream",
     "text": [
      "(4368, 10)\n",
      "4368\n"
     ]
    }
   ],
   "source": [
    "print(df_perf.shape)\n",
    "print(df_perf.customerid.nunique())"
   ]
  },
  {
   "cell_type": "code",
   "execution_count": 45,
   "id": "4b59d82d",
   "metadata": {},
   "outputs": [
    {
     "name": "stdout",
     "output_type": "stream",
     "text": [
      "3269\n",
      "3264\n",
      "4359\n"
     ]
    }
   ],
   "source": [
    "print(len(list(set(df_demo.customerid) & set(df_perf.customerid))))\n",
    "print(len(list(set(df_demo.customerid) & set(df_prev.customerid))))\n",
    "print(len(list(set(df_perf.customerid) & set(df_prev.customerid))))"
   ]
  },
  {
   "cell_type": "code",
   "execution_count": 47,
   "id": "7bca8540",
   "metadata": {
    "scrolled": false
   },
   "outputs": [
    {
     "data": {
      "text/html": [
       "<div>\n",
       "<style scoped>\n",
       "    .dataframe tbody tr th:only-of-type {\n",
       "        vertical-align: middle;\n",
       "    }\n",
       "\n",
       "    .dataframe tbody tr th {\n",
       "        vertical-align: top;\n",
       "    }\n",
       "\n",
       "    .dataframe thead th {\n",
       "        text-align: right;\n",
       "    }\n",
       "</style>\n",
       "<table border=\"1\" class=\"dataframe\">\n",
       "  <thead>\n",
       "    <tr style=\"text-align: right;\">\n",
       "      <th></th>\n",
       "      <th>customerid</th>\n",
       "      <th>systemloanid_x</th>\n",
       "      <th>loannumber_x</th>\n",
       "      <th>approveddate_x</th>\n",
       "      <th>creationdate_x</th>\n",
       "      <th>loanamount_x</th>\n",
       "      <th>totaldue_x</th>\n",
       "      <th>termdays_x</th>\n",
       "      <th>closeddate</th>\n",
       "      <th>referredby_x</th>\n",
       "      <th>...</th>\n",
       "      <th>referredby_y</th>\n",
       "      <th>good_bad_flag</th>\n",
       "      <th>birthdate</th>\n",
       "      <th>bank_account_type</th>\n",
       "      <th>longitude_gps</th>\n",
       "      <th>latitude_gps</th>\n",
       "      <th>bank_name_clients</th>\n",
       "      <th>bank_branch_clients</th>\n",
       "      <th>employment_status_clients</th>\n",
       "      <th>level_of_education_clients</th>\n",
       "    </tr>\n",
       "  </thead>\n",
       "  <tbody>\n",
       "    <tr>\n",
       "      <th>0</th>\n",
       "      <td>8a2a81a74ce8c05d014cfb32a0da1049</td>\n",
       "      <td>301682320</td>\n",
       "      <td>2</td>\n",
       "      <td>2016-08-15 18:22:40.000000</td>\n",
       "      <td>2016-08-15 17:22:32.000000</td>\n",
       "      <td>10000.0</td>\n",
       "      <td>13000.0</td>\n",
       "      <td>30</td>\n",
       "      <td>2016-09-01 16:06:48.000000</td>\n",
       "      <td>NaN</td>\n",
       "      <td>...</td>\n",
       "      <td>NaN</td>\n",
       "      <td>Good</td>\n",
       "      <td>1972-01-15 00:00:00.000000</td>\n",
       "      <td>Other</td>\n",
       "      <td>3.432010</td>\n",
       "      <td>6.433055</td>\n",
       "      <td>Diamond Bank</td>\n",
       "      <td>NaN</td>\n",
       "      <td>Permanent</td>\n",
       "      <td>Post-Graduate</td>\n",
       "    </tr>\n",
       "    <tr>\n",
       "      <th>1</th>\n",
       "      <td>8a2a81a74ce8c05d014cfb32a0da1049</td>\n",
       "      <td>301883808</td>\n",
       "      <td>9</td>\n",
       "      <td>2017-04-28 18:39:07.000000</td>\n",
       "      <td>2017-04-28 17:38:53.000000</td>\n",
       "      <td>10000.0</td>\n",
       "      <td>13000.0</td>\n",
       "      <td>30</td>\n",
       "      <td>2017-05-28 14:44:49.000000</td>\n",
       "      <td>NaN</td>\n",
       "      <td>...</td>\n",
       "      <td>NaN</td>\n",
       "      <td>Good</td>\n",
       "      <td>1972-01-15 00:00:00.000000</td>\n",
       "      <td>Other</td>\n",
       "      <td>3.432010</td>\n",
       "      <td>6.433055</td>\n",
       "      <td>Diamond Bank</td>\n",
       "      <td>NaN</td>\n",
       "      <td>Permanent</td>\n",
       "      <td>Post-Graduate</td>\n",
       "    </tr>\n",
       "    <tr>\n",
       "      <th>2</th>\n",
       "      <td>8a2a81a74ce8c05d014cfb32a0da1049</td>\n",
       "      <td>301831714</td>\n",
       "      <td>8</td>\n",
       "      <td>2017-03-05 10:56:25.000000</td>\n",
       "      <td>2017-03-05 09:56:19.000000</td>\n",
       "      <td>20000.0</td>\n",
       "      <td>23800.0</td>\n",
       "      <td>30</td>\n",
       "      <td>2017-04-26 22:18:56.000000</td>\n",
       "      <td>NaN</td>\n",
       "      <td>...</td>\n",
       "      <td>NaN</td>\n",
       "      <td>Good</td>\n",
       "      <td>1972-01-15 00:00:00.000000</td>\n",
       "      <td>Other</td>\n",
       "      <td>3.432010</td>\n",
       "      <td>6.433055</td>\n",
       "      <td>Diamond Bank</td>\n",
       "      <td>NaN</td>\n",
       "      <td>Permanent</td>\n",
       "      <td>Post-Graduate</td>\n",
       "    </tr>\n",
       "    <tr>\n",
       "      <th>3</th>\n",
       "      <td>8a2a81a74ce8c05d014cfb32a0da1049</td>\n",
       "      <td>301923941</td>\n",
       "      <td>10</td>\n",
       "      <td>2017-06-01 13:34:30.000000</td>\n",
       "      <td>2017-06-01 12:34:21.000000</td>\n",
       "      <td>20000.0</td>\n",
       "      <td>24500.0</td>\n",
       "      <td>30</td>\n",
       "      <td>2017-06-25 15:24:06.000000</td>\n",
       "      <td>NaN</td>\n",
       "      <td>...</td>\n",
       "      <td>NaN</td>\n",
       "      <td>Good</td>\n",
       "      <td>1972-01-15 00:00:00.000000</td>\n",
       "      <td>Other</td>\n",
       "      <td>3.432010</td>\n",
       "      <td>6.433055</td>\n",
       "      <td>Diamond Bank</td>\n",
       "      <td>NaN</td>\n",
       "      <td>Permanent</td>\n",
       "      <td>Post-Graduate</td>\n",
       "    </tr>\n",
       "    <tr>\n",
       "      <th>4</th>\n",
       "      <td>8a2a81a74ce8c05d014cfb32a0da1049</td>\n",
       "      <td>301954468</td>\n",
       "      <td>11</td>\n",
       "      <td>2017-06-28 10:58:34.000000</td>\n",
       "      <td>2017-06-28 09:58:25.000000</td>\n",
       "      <td>20000.0</td>\n",
       "      <td>24500.0</td>\n",
       "      <td>30</td>\n",
       "      <td>2017-07-25 08:14:36.000000</td>\n",
       "      <td>NaN</td>\n",
       "      <td>...</td>\n",
       "      <td>NaN</td>\n",
       "      <td>Good</td>\n",
       "      <td>1972-01-15 00:00:00.000000</td>\n",
       "      <td>Other</td>\n",
       "      <td>3.432010</td>\n",
       "      <td>6.433055</td>\n",
       "      <td>Diamond Bank</td>\n",
       "      <td>NaN</td>\n",
       "      <td>Permanent</td>\n",
       "      <td>Post-Graduate</td>\n",
       "    </tr>\n",
       "    <tr>\n",
       "      <th>...</th>\n",
       "      <td>...</td>\n",
       "      <td>...</td>\n",
       "      <td>...</td>\n",
       "      <td>...</td>\n",
       "      <td>...</td>\n",
       "      <td>...</td>\n",
       "      <td>...</td>\n",
       "      <td>...</td>\n",
       "      <td>...</td>\n",
       "      <td>...</td>\n",
       "      <td>...</td>\n",
       "      <td>...</td>\n",
       "      <td>...</td>\n",
       "      <td>...</td>\n",
       "      <td>...</td>\n",
       "      <td>...</td>\n",
       "      <td>...</td>\n",
       "      <td>...</td>\n",
       "      <td>...</td>\n",
       "      <td>...</td>\n",
       "      <td>...</td>\n",
       "    </tr>\n",
       "    <tr>\n",
       "      <th>13668</th>\n",
       "      <td>8a858ec65cf4605b015cf4ed88665334</td>\n",
       "      <td>301980231</td>\n",
       "      <td>1</td>\n",
       "      <td>2017-07-16 12:01:31.000000</td>\n",
       "      <td>2017-07-16 11:00:13.000000</td>\n",
       "      <td>10000.0</td>\n",
       "      <td>11500.0</td>\n",
       "      <td>15</td>\n",
       "      <td>2017-07-18 16:33:55.000000</td>\n",
       "      <td>NaN</td>\n",
       "      <td>...</td>\n",
       "      <td>NaN</td>\n",
       "      <td>Good</td>\n",
       "      <td>1986-02-20 00:00:00.000000</td>\n",
       "      <td>Savings</td>\n",
       "      <td>5.252457</td>\n",
       "      <td>12.991440</td>\n",
       "      <td>UBA</td>\n",
       "      <td>NaN</td>\n",
       "      <td>Permanent</td>\n",
       "      <td>NaN</td>\n",
       "    </tr>\n",
       "    <tr>\n",
       "      <th>13669</th>\n",
       "      <td>8a858eaf5b617c94015b6194555e10a2</td>\n",
       "      <td>301938001</td>\n",
       "      <td>1</td>\n",
       "      <td>2017-06-14 06:50:41.000000</td>\n",
       "      <td>2017-06-14 05:49:34.000000</td>\n",
       "      <td>10000.0</td>\n",
       "      <td>13000.0</td>\n",
       "      <td>30</td>\n",
       "      <td>2017-07-11 14:26:40.000000</td>\n",
       "      <td>8a858ff15b5d3f84015b5d509bd61cae</td>\n",
       "      <td>...</td>\n",
       "      <td>8a858ff15b5d3f84015b5d509bd61cae</td>\n",
       "      <td>Good</td>\n",
       "      <td>1979-04-18 00:00:00.000000</td>\n",
       "      <td>Savings</td>\n",
       "      <td>7.478858</td>\n",
       "      <td>9.055714</td>\n",
       "      <td>FCMB</td>\n",
       "      <td>NaN</td>\n",
       "      <td>Permanent</td>\n",
       "      <td>NaN</td>\n",
       "    </tr>\n",
       "    <tr>\n",
       "      <th>13670</th>\n",
       "      <td>8a858f305c8dd672015c92b0711a3333</td>\n",
       "      <td>301941335</td>\n",
       "      <td>1</td>\n",
       "      <td>2017-06-16 18:16:37.000000</td>\n",
       "      <td>2017-06-16 17:15:29.000000</td>\n",
       "      <td>10000.0</td>\n",
       "      <td>11500.0</td>\n",
       "      <td>15</td>\n",
       "      <td>2017-06-26 14:02:03.000000</td>\n",
       "      <td>NaN</td>\n",
       "      <td>...</td>\n",
       "      <td>NaN</td>\n",
       "      <td>Good</td>\n",
       "      <td>1989-11-19 00:00:00.000000</td>\n",
       "      <td>Savings</td>\n",
       "      <td>3.381677</td>\n",
       "      <td>6.455923</td>\n",
       "      <td>Zenith Bank</td>\n",
       "      <td>NaN</td>\n",
       "      <td>Permanent</td>\n",
       "      <td>NaN</td>\n",
       "    </tr>\n",
       "    <tr>\n",
       "      <th>13671</th>\n",
       "      <td>8a858fe7568ed7420156920bff565cc7</td>\n",
       "      <td>301955570</td>\n",
       "      <td>1</td>\n",
       "      <td>2017-06-29 01:25:57.000000</td>\n",
       "      <td>2017-06-29 00:25:48.000000</td>\n",
       "      <td>10000.0</td>\n",
       "      <td>11500.0</td>\n",
       "      <td>15</td>\n",
       "      <td>2017-07-05 14:31:17.000000</td>\n",
       "      <td>NaN</td>\n",
       "      <td>...</td>\n",
       "      <td>NaN</td>\n",
       "      <td>Good</td>\n",
       "      <td>1980-11-12 00:00:00.000000</td>\n",
       "      <td>Savings</td>\n",
       "      <td>6.979660</td>\n",
       "      <td>4.879515</td>\n",
       "      <td>Access Bank</td>\n",
       "      <td>NaN</td>\n",
       "      <td>Unemployed</td>\n",
       "      <td>Graduate</td>\n",
       "    </tr>\n",
       "    <tr>\n",
       "      <th>13672</th>\n",
       "      <td>8a858f6459b6456d0159b69978f22bed</td>\n",
       "      <td>301796830</td>\n",
       "      <td>1</td>\n",
       "      <td>2017-01-19 14:00:16.000000</td>\n",
       "      <td>2017-01-19 13:00:02.000000</td>\n",
       "      <td>10000.0</td>\n",
       "      <td>11500.0</td>\n",
       "      <td>15</td>\n",
       "      <td>2017-02-15 09:06:34.000000</td>\n",
       "      <td>NaN</td>\n",
       "      <td>...</td>\n",
       "      <td>NaN</td>\n",
       "      <td>Good</td>\n",
       "      <td>1989-10-24 00:00:00.000000</td>\n",
       "      <td>Savings</td>\n",
       "      <td>7.530892</td>\n",
       "      <td>9.042928</td>\n",
       "      <td>EcoBank</td>\n",
       "      <td>NaN</td>\n",
       "      <td>Permanent</td>\n",
       "      <td>NaN</td>\n",
       "    </tr>\n",
       "  </tbody>\n",
       "</table>\n",
       "<p>13673 rows × 29 columns</p>\n",
       "</div>"
      ],
      "text/plain": [
       "                             customerid  systemloanid_x  loannumber_x  \\\n",
       "0      8a2a81a74ce8c05d014cfb32a0da1049       301682320             2   \n",
       "1      8a2a81a74ce8c05d014cfb32a0da1049       301883808             9   \n",
       "2      8a2a81a74ce8c05d014cfb32a0da1049       301831714             8   \n",
       "3      8a2a81a74ce8c05d014cfb32a0da1049       301923941            10   \n",
       "4      8a2a81a74ce8c05d014cfb32a0da1049       301954468            11   \n",
       "...                                 ...             ...           ...   \n",
       "13668  8a858ec65cf4605b015cf4ed88665334       301980231             1   \n",
       "13669  8a858eaf5b617c94015b6194555e10a2       301938001             1   \n",
       "13670  8a858f305c8dd672015c92b0711a3333       301941335             1   \n",
       "13671  8a858fe7568ed7420156920bff565cc7       301955570             1   \n",
       "13672  8a858f6459b6456d0159b69978f22bed       301796830             1   \n",
       "\n",
       "                   approveddate_x              creationdate_x  loanamount_x  \\\n",
       "0      2016-08-15 18:22:40.000000  2016-08-15 17:22:32.000000       10000.0   \n",
       "1      2017-04-28 18:39:07.000000  2017-04-28 17:38:53.000000       10000.0   \n",
       "2      2017-03-05 10:56:25.000000  2017-03-05 09:56:19.000000       20000.0   \n",
       "3      2017-06-01 13:34:30.000000  2017-06-01 12:34:21.000000       20000.0   \n",
       "4      2017-06-28 10:58:34.000000  2017-06-28 09:58:25.000000       20000.0   \n",
       "...                           ...                         ...           ...   \n",
       "13668  2017-07-16 12:01:31.000000  2017-07-16 11:00:13.000000       10000.0   \n",
       "13669  2017-06-14 06:50:41.000000  2017-06-14 05:49:34.000000       10000.0   \n",
       "13670  2017-06-16 18:16:37.000000  2017-06-16 17:15:29.000000       10000.0   \n",
       "13671  2017-06-29 01:25:57.000000  2017-06-29 00:25:48.000000       10000.0   \n",
       "13672  2017-01-19 14:00:16.000000  2017-01-19 13:00:02.000000       10000.0   \n",
       "\n",
       "       totaldue_x  termdays_x                  closeddate  \\\n",
       "0         13000.0          30  2016-09-01 16:06:48.000000   \n",
       "1         13000.0          30  2017-05-28 14:44:49.000000   \n",
       "2         23800.0          30  2017-04-26 22:18:56.000000   \n",
       "3         24500.0          30  2017-06-25 15:24:06.000000   \n",
       "4         24500.0          30  2017-07-25 08:14:36.000000   \n",
       "...           ...         ...                         ...   \n",
       "13668     11500.0          15  2017-07-18 16:33:55.000000   \n",
       "13669     13000.0          30  2017-07-11 14:26:40.000000   \n",
       "13670     11500.0          15  2017-06-26 14:02:03.000000   \n",
       "13671     11500.0          15  2017-07-05 14:31:17.000000   \n",
       "13672     11500.0          15  2017-02-15 09:06:34.000000   \n",
       "\n",
       "                           referredby_x  ...  \\\n",
       "0                                   NaN  ...   \n",
       "1                                   NaN  ...   \n",
       "2                                   NaN  ...   \n",
       "3                                   NaN  ...   \n",
       "4                                   NaN  ...   \n",
       "...                                 ...  ...   \n",
       "13668                               NaN  ...   \n",
       "13669  8a858ff15b5d3f84015b5d509bd61cae  ...   \n",
       "13670                               NaN  ...   \n",
       "13671                               NaN  ...   \n",
       "13672                               NaN  ...   \n",
       "\n",
       "                           referredby_y good_bad_flag  \\\n",
       "0                                   NaN          Good   \n",
       "1                                   NaN          Good   \n",
       "2                                   NaN          Good   \n",
       "3                                   NaN          Good   \n",
       "4                                   NaN          Good   \n",
       "...                                 ...           ...   \n",
       "13668                               NaN          Good   \n",
       "13669  8a858ff15b5d3f84015b5d509bd61cae          Good   \n",
       "13670                               NaN          Good   \n",
       "13671                               NaN          Good   \n",
       "13672                               NaN          Good   \n",
       "\n",
       "                        birthdate  bank_account_type longitude_gps  \\\n",
       "0      1972-01-15 00:00:00.000000              Other      3.432010   \n",
       "1      1972-01-15 00:00:00.000000              Other      3.432010   \n",
       "2      1972-01-15 00:00:00.000000              Other      3.432010   \n",
       "3      1972-01-15 00:00:00.000000              Other      3.432010   \n",
       "4      1972-01-15 00:00:00.000000              Other      3.432010   \n",
       "...                           ...                ...           ...   \n",
       "13668  1986-02-20 00:00:00.000000            Savings      5.252457   \n",
       "13669  1979-04-18 00:00:00.000000            Savings      7.478858   \n",
       "13670  1989-11-19 00:00:00.000000            Savings      3.381677   \n",
       "13671  1980-11-12 00:00:00.000000            Savings      6.979660   \n",
       "13672  1989-10-24 00:00:00.000000            Savings      7.530892   \n",
       "\n",
       "      latitude_gps  bank_name_clients  bank_branch_clients  \\\n",
       "0         6.433055       Diamond Bank                  NaN   \n",
       "1         6.433055       Diamond Bank                  NaN   \n",
       "2         6.433055       Diamond Bank                  NaN   \n",
       "3         6.433055       Diamond Bank                  NaN   \n",
       "4         6.433055       Diamond Bank                  NaN   \n",
       "...            ...                ...                  ...   \n",
       "13668    12.991440                UBA                  NaN   \n",
       "13669     9.055714               FCMB                  NaN   \n",
       "13670     6.455923        Zenith Bank                  NaN   \n",
       "13671     4.879515        Access Bank                  NaN   \n",
       "13672     9.042928            EcoBank                  NaN   \n",
       "\n",
       "       employment_status_clients level_of_education_clients  \n",
       "0                      Permanent              Post-Graduate  \n",
       "1                      Permanent              Post-Graduate  \n",
       "2                      Permanent              Post-Graduate  \n",
       "3                      Permanent              Post-Graduate  \n",
       "4                      Permanent              Post-Graduate  \n",
       "...                          ...                        ...  \n",
       "13668                  Permanent                        NaN  \n",
       "13669                  Permanent                        NaN  \n",
       "13670                  Permanent                        NaN  \n",
       "13671                 Unemployed                   Graduate  \n",
       "13672                  Permanent                        NaN  \n",
       "\n",
       "[13673 rows x 29 columns]"
      ]
     },
     "execution_count": 47,
     "metadata": {},
     "output_type": "execute_result"
    }
   ],
   "source": [
    "df_train = df_prev.merge(df_perf, on=\"customerid\", how='inner').merge(\n",
    "    df_demo, on=\"customerid\", how='inner')"
   ]
  },
  {
   "cell_type": "code",
   "execution_count": 52,
   "id": "e4ca8329",
   "metadata": {},
   "outputs": [],
   "source": [
    "test_demo = pd.read_csv(\"data/testdemographics.csv\").drop_duplicates()\n",
    "test_prev = pd.read_csv(\"data/testprevloans.csv\").drop_duplicates()\n",
    "test_perf = pd.read_csv(\"data/testperf.csv\").drop_duplicates()\n",
    "\n",
    "df_test = test_prev.merge(test_perf, on=\"customerid\", how='inner')"
   ]
  },
  {
   "cell_type": "code",
   "execution_count": 53,
   "id": "f07943ac",
   "metadata": {},
   "outputs": [
    {
     "data": {
      "text/plain": [
       "(5907, 20)"
      ]
     },
     "execution_count": 53,
     "metadata": {},
     "output_type": "execute_result"
    }
   ],
   "source": [
    "df_test.shape"
   ]
  },
  {
   "cell_type": "code",
   "execution_count": null,
   "id": "086d5a85",
   "metadata": {},
   "outputs": [],
   "source": [
    ".merge(\n",
    "    test_demo, on=\"customerid\", how='inner')"
   ]
  },
  {
   "cell_type": "markdown",
   "id": "255481dd",
   "metadata": {},
   "source": [
    "### Exploratory Data Analysis"
   ]
  }
 ],
 "metadata": {
  "kernelspec": {
   "display_name": "Python 3 (ipykernel)",
   "language": "python",
   "name": "python3"
  },
  "language_info": {
   "codemirror_mode": {
    "name": "ipython",
    "version": 3
   },
   "file_extension": ".py",
   "mimetype": "text/x-python",
   "name": "python",
   "nbconvert_exporter": "python",
   "pygments_lexer": "ipython3",
   "version": "3.11.5"
  }
 },
 "nbformat": 4,
 "nbformat_minor": 5
}
