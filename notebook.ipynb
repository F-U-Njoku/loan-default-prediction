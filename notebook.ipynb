{
 "cells": [
  {
   "cell_type": "code",
   "execution_count": 98,
   "id": "89dc9c05",
   "metadata": {},
   "outputs": [],
   "source": [
    "import pandas as pd\n",
    "import seaborn as sns"
   ]
  },
  {
   "cell_type": "markdown",
   "id": "69d9d88d",
   "metadata": {},
   "source": [
    "# Data Ingestion"
   ]
  },
  {
   "cell_type": "code",
   "execution_count": 2,
   "id": "9d661210",
   "metadata": {},
   "outputs": [
    {
     "name": "stdout",
     "output_type": "stream",
     "text": [
      "testdemographics.csv  testprevloans.csv      trainperf.csv\r\n",
      "testperf.csv\t      traindemographics.csv  trainprevloans.csv\r\n"
     ]
    }
   ],
   "source": [
    "!ls data"
   ]
  },
  {
   "cell_type": "markdown",
   "id": "7606eac1",
   "metadata": {},
   "source": [
    "## Training data"
   ]
  },
  {
   "cell_type": "markdown",
   "id": "6da2aba9",
   "metadata": {},
   "source": [
    "### Demographics data"
   ]
  },
  {
   "cell_type": "code",
   "execution_count": 3,
   "id": "373e5c5c",
   "metadata": {},
   "outputs": [],
   "source": [
    "df_demo = pd.read_csv(\"data/traindemographics.csv\").drop_duplicates()"
   ]
  },
  {
   "cell_type": "code",
   "execution_count": 4,
   "id": "f16722de",
   "metadata": {
    "scrolled": true
   },
   "outputs": [
    {
     "data": {
      "text/plain": [
       "Index(['customerid', 'birthdate', 'bank_account_type', 'longitude_gps',\n",
       "       'latitude_gps', 'bank_name_clients', 'bank_branch_clients',\n",
       "       'employment_status_clients', 'level_of_education_clients'],\n",
       "      dtype='object')"
      ]
     },
     "execution_count": 4,
     "metadata": {},
     "output_type": "execute_result"
    }
   ],
   "source": [
    "df_demo.columns"
   ]
  },
  {
   "cell_type": "code",
   "execution_count": 5,
   "id": "f0db2bdb",
   "metadata": {},
   "outputs": [
    {
     "name": "stdout",
     "output_type": "stream",
     "text": [
      "(4334, 9)\n",
      "4334\n"
     ]
    }
   ],
   "source": [
    "print(df_demo.shape)\n",
    "print(df_demo.customerid.nunique())"
   ]
  },
  {
   "cell_type": "code",
   "execution_count": 6,
   "id": "5c77dcfc",
   "metadata": {},
   "outputs": [
    {
     "data": {
      "text/plain": [
       "customerid                       0\n",
       "birthdate                        0\n",
       "bank_account_type                0\n",
       "longitude_gps                    0\n",
       "latitude_gps                     0\n",
       "bank_name_clients                0\n",
       "bank_branch_clients           4283\n",
       "employment_status_clients      648\n",
       "level_of_education_clients    3748\n",
       "dtype: int64"
      ]
     },
     "execution_count": 6,
     "metadata": {},
     "output_type": "execute_result"
    }
   ],
   "source": [
    "df_demo.isnull().sum()"
   ]
  },
  {
   "cell_type": "code",
   "execution_count": 7,
   "id": "f93ce16c",
   "metadata": {
    "scrolled": true
   },
   "outputs": [
    {
     "data": {
      "text/plain": [
       "customerid                     object\n",
       "birthdate                      object\n",
       "bank_account_type              object\n",
       "longitude_gps                 float64\n",
       "latitude_gps                  float64\n",
       "bank_name_clients              object\n",
       "bank_branch_clients            object\n",
       "employment_status_clients      object\n",
       "level_of_education_clients     object\n",
       "dtype: object"
      ]
     },
     "execution_count": 7,
     "metadata": {},
     "output_type": "execute_result"
    }
   ],
   "source": [
    "df_demo.dtypes"
   ]
  },
  {
   "cell_type": "markdown",
   "id": "bf3186a1",
   "metadata": {},
   "source": [
    "- Change 'birthdate' data type of date\n",
    "- Drop 'bank_branch_clients' and 'level_of_education_clients' columns, they contain more than 50% missing values\n",
    "- Replace the null values in 'employment_status_clients' with string 'UNKNOWN'"
   ]
  },
  {
   "cell_type": "code",
   "execution_count": 8,
   "id": "bc88d11c",
   "metadata": {},
   "outputs": [],
   "source": [
    "df_demo['birthdate'] = pd.to_datetime(df_demo['birthdate']).dt.date\n",
    "df_demo = df_demo.drop(columns=['bank_branch_clients', 'level_of_education_clients'])\n",
    "df_demo[\"employment_status_clients\"].fillna(\"UNKNOWN\", inplace = True)"
   ]
  },
  {
   "cell_type": "code",
   "execution_count": 9,
   "id": "03b36030",
   "metadata": {},
   "outputs": [
    {
     "data": {
      "text/html": [
       "<div>\n",
       "<style scoped>\n",
       "    .dataframe tbody tr th:only-of-type {\n",
       "        vertical-align: middle;\n",
       "    }\n",
       "\n",
       "    .dataframe tbody tr th {\n",
       "        vertical-align: top;\n",
       "    }\n",
       "\n",
       "    .dataframe thead th {\n",
       "        text-align: right;\n",
       "    }\n",
       "</style>\n",
       "<table border=\"1\" class=\"dataframe\">\n",
       "  <thead>\n",
       "    <tr style=\"text-align: right;\">\n",
       "      <th></th>\n",
       "      <th>customerid</th>\n",
       "      <th>birthdate</th>\n",
       "      <th>bank_account_type</th>\n",
       "      <th>longitude_gps</th>\n",
       "      <th>latitude_gps</th>\n",
       "      <th>bank_name_clients</th>\n",
       "      <th>employment_status_clients</th>\n",
       "    </tr>\n",
       "  </thead>\n",
       "  <tbody>\n",
       "    <tr>\n",
       "      <th>0</th>\n",
       "      <td>8a858e135cb22031015cbafc76964ebd</td>\n",
       "      <td>1973-10-10</td>\n",
       "      <td>Savings</td>\n",
       "      <td>3.319219</td>\n",
       "      <td>6.528604</td>\n",
       "      <td>GT Bank</td>\n",
       "      <td>UNKNOWN</td>\n",
       "    </tr>\n",
       "    <tr>\n",
       "      <th>1</th>\n",
       "      <td>8a858e275c7ea5ec015c82482d7c3996</td>\n",
       "      <td>1986-01-21</td>\n",
       "      <td>Savings</td>\n",
       "      <td>3.325598</td>\n",
       "      <td>7.119403</td>\n",
       "      <td>Sterling Bank</td>\n",
       "      <td>Permanent</td>\n",
       "    </tr>\n",
       "    <tr>\n",
       "      <th>2</th>\n",
       "      <td>8a858e5b5bd99460015bdc95cd485634</td>\n",
       "      <td>1987-04-01</td>\n",
       "      <td>Savings</td>\n",
       "      <td>5.746100</td>\n",
       "      <td>5.563174</td>\n",
       "      <td>Fidelity Bank</td>\n",
       "      <td>UNKNOWN</td>\n",
       "    </tr>\n",
       "    <tr>\n",
       "      <th>3</th>\n",
       "      <td>8a858efd5ca70688015cabd1f1e94b55</td>\n",
       "      <td>1991-07-19</td>\n",
       "      <td>Savings</td>\n",
       "      <td>3.362850</td>\n",
       "      <td>6.642485</td>\n",
       "      <td>GT Bank</td>\n",
       "      <td>Permanent</td>\n",
       "    </tr>\n",
       "    <tr>\n",
       "      <th>4</th>\n",
       "      <td>8a858e785acd3412015acd48f4920d04</td>\n",
       "      <td>1982-11-22</td>\n",
       "      <td>Savings</td>\n",
       "      <td>8.455332</td>\n",
       "      <td>11.971410</td>\n",
       "      <td>GT Bank</td>\n",
       "      <td>Permanent</td>\n",
       "    </tr>\n",
       "  </tbody>\n",
       "</table>\n",
       "</div>"
      ],
      "text/plain": [
       "                         customerid   birthdate bank_account_type  \\\n",
       "0  8a858e135cb22031015cbafc76964ebd  1973-10-10           Savings   \n",
       "1  8a858e275c7ea5ec015c82482d7c3996  1986-01-21           Savings   \n",
       "2  8a858e5b5bd99460015bdc95cd485634  1987-04-01           Savings   \n",
       "3  8a858efd5ca70688015cabd1f1e94b55  1991-07-19           Savings   \n",
       "4  8a858e785acd3412015acd48f4920d04  1982-11-22           Savings   \n",
       "\n",
       "   longitude_gps  latitude_gps bank_name_clients employment_status_clients  \n",
       "0       3.319219      6.528604           GT Bank                   UNKNOWN  \n",
       "1       3.325598      7.119403     Sterling Bank                 Permanent  \n",
       "2       5.746100      5.563174     Fidelity Bank                   UNKNOWN  \n",
       "3       3.362850      6.642485           GT Bank                 Permanent  \n",
       "4       8.455332     11.971410           GT Bank                 Permanent  "
      ]
     },
     "execution_count": 9,
     "metadata": {},
     "output_type": "execute_result"
    }
   ],
   "source": [
    "df_demo.head()"
   ]
  },
  {
   "cell_type": "markdown",
   "id": "5ce583f9",
   "metadata": {},
   "source": [
    "### Previous Loans data"
   ]
  },
  {
   "cell_type": "code",
   "execution_count": 10,
   "id": "52e909d5",
   "metadata": {},
   "outputs": [],
   "source": [
    "df_prev = pd.read_csv(\"data/trainprevloans.csv\").drop_duplicates()"
   ]
  },
  {
   "cell_type": "code",
   "execution_count": 11,
   "id": "3607881a",
   "metadata": {},
   "outputs": [
    {
     "data": {
      "text/plain": [
       "Index(['customerid', 'systemloanid', 'loannumber', 'approveddate',\n",
       "       'creationdate', 'loanamount', 'totaldue', 'termdays', 'closeddate',\n",
       "       'referredby', 'firstduedate', 'firstrepaiddate'],\n",
       "      dtype='object')"
      ]
     },
     "execution_count": 11,
     "metadata": {},
     "output_type": "execute_result"
    }
   ],
   "source": [
    "df_prev.columns"
   ]
  },
  {
   "cell_type": "code",
   "execution_count": 12,
   "id": "41bf333f",
   "metadata": {},
   "outputs": [
    {
     "name": "stdout",
     "output_type": "stream",
     "text": [
      "(18183, 12)\n",
      "4359\n"
     ]
    }
   ],
   "source": [
    "print(df_prev.shape)\n",
    "print(df_prev.customerid.nunique())"
   ]
  },
  {
   "cell_type": "code",
   "execution_count": 13,
   "id": "57e35b7d",
   "metadata": {},
   "outputs": [
    {
     "data": {
      "text/plain": [
       "customerid             0\n",
       "systemloanid           0\n",
       "loannumber             0\n",
       "approveddate           0\n",
       "creationdate           0\n",
       "loanamount             0\n",
       "totaldue               0\n",
       "termdays               0\n",
       "closeddate             0\n",
       "referredby         17157\n",
       "firstduedate           0\n",
       "firstrepaiddate        0\n",
       "dtype: int64"
      ]
     },
     "execution_count": 13,
     "metadata": {},
     "output_type": "execute_result"
    }
   ],
   "source": [
    "df_prev.isnull().sum()"
   ]
  },
  {
   "cell_type": "code",
   "execution_count": 14,
   "id": "27a1420e",
   "metadata": {},
   "outputs": [
    {
     "data": {
      "text/plain": [
       "customerid          object\n",
       "systemloanid         int64\n",
       "loannumber           int64\n",
       "approveddate        object\n",
       "creationdate        object\n",
       "loanamount         float64\n",
       "totaldue           float64\n",
       "termdays             int64\n",
       "closeddate          object\n",
       "referredby          object\n",
       "firstduedate        object\n",
       "firstrepaiddate     object\n",
       "dtype: object"
      ]
     },
     "execution_count": 14,
     "metadata": {},
     "output_type": "execute_result"
    }
   ],
   "source": [
    "df_prev.dtypes"
   ]
  },
  {
   "cell_type": "markdown",
   "id": "5f98ab40",
   "metadata": {},
   "source": [
    "- Drop 'referredby' columns, it contains mostly null values\n",
    "- Change data type of 'approveddate','creationdate', 'closeddate', 'firstduedate', 'firstrepaiddate' to date "
   ]
  },
  {
   "cell_type": "code",
   "execution_count": 15,
   "id": "8bb025d2",
   "metadata": {},
   "outputs": [],
   "source": [
    "df_prev = df_prev.drop(columns=['referredby'])\n",
    "df_prev['approveddate'] = pd.to_datetime(df_prev['approveddate']).dt.date\n",
    "df_prev['creationdate'] = pd.to_datetime(df_prev['creationdate']).dt.date\n",
    "df_prev['closeddate'] = pd.to_datetime(df_prev['closeddate']).dt.date\n",
    "df_prev['firstduedate'] = pd.to_datetime(df_prev['firstduedate']).dt.date\n",
    "df_prev['firstrepaiddate'] = pd.to_datetime(df_prev['firstrepaiddate']).dt.date"
   ]
  },
  {
   "cell_type": "markdown",
   "id": "1f323446",
   "metadata": {},
   "source": [
    "### Performance data"
   ]
  },
  {
   "cell_type": "code",
   "execution_count": 16,
   "id": "a0d659e3",
   "metadata": {},
   "outputs": [],
   "source": [
    "df_perf = pd.read_csv(\"data/trainperf.csv\").drop_duplicates()"
   ]
  },
  {
   "cell_type": "code",
   "execution_count": 17,
   "id": "135485bb",
   "metadata": {},
   "outputs": [
    {
     "data": {
      "text/plain": [
       "Index(['customerid', 'systemloanid', 'loannumber', 'approveddate',\n",
       "       'creationdate', 'loanamount', 'totaldue', 'termdays', 'referredby',\n",
       "       'good_bad_flag'],\n",
       "      dtype='object')"
      ]
     },
     "execution_count": 17,
     "metadata": {},
     "output_type": "execute_result"
    }
   ],
   "source": [
    "df_perf.columns"
   ]
  },
  {
   "cell_type": "code",
   "execution_count": 18,
   "id": "f71428e6",
   "metadata": {
    "scrolled": true
   },
   "outputs": [
    {
     "name": "stdout",
     "output_type": "stream",
     "text": [
      "(4368, 10)\n",
      "4368\n"
     ]
    }
   ],
   "source": [
    "print(df_perf.shape)\n",
    "print(df_perf.customerid.nunique())"
   ]
  },
  {
   "cell_type": "code",
   "execution_count": 19,
   "id": "ad3248c7",
   "metadata": {},
   "outputs": [
    {
     "data": {
      "text/plain": [
       "customerid          0\n",
       "systemloanid        0\n",
       "loannumber          0\n",
       "approveddate        0\n",
       "creationdate        0\n",
       "loanamount          0\n",
       "totaldue            0\n",
       "termdays            0\n",
       "referredby       3781\n",
       "good_bad_flag       0\n",
       "dtype: int64"
      ]
     },
     "execution_count": 19,
     "metadata": {},
     "output_type": "execute_result"
    }
   ],
   "source": [
    "df_perf.isnull().sum()"
   ]
  },
  {
   "cell_type": "code",
   "execution_count": 20,
   "id": "0fd81859",
   "metadata": {
    "scrolled": true
   },
   "outputs": [
    {
     "data": {
      "text/plain": [
       "customerid        object\n",
       "systemloanid       int64\n",
       "loannumber         int64\n",
       "approveddate      object\n",
       "creationdate      object\n",
       "loanamount       float64\n",
       "totaldue         float64\n",
       "termdays           int64\n",
       "referredby        object\n",
       "good_bad_flag     object\n",
       "dtype: object"
      ]
     },
     "execution_count": 20,
     "metadata": {},
     "output_type": "execute_result"
    }
   ],
   "source": [
    "df_perf.dtypes"
   ]
  },
  {
   "cell_type": "markdown",
   "id": "044d2ba8",
   "metadata": {},
   "source": [
    "- Drop 'referredby' columns, it contains mostly null values\n",
    "- Change data type of 'approveddate','creationdate' to date \n",
    "- Encode 'good_bad_flag' to binary"
   ]
  },
  {
   "cell_type": "code",
   "execution_count": 21,
   "id": "79278af4",
   "metadata": {},
   "outputs": [],
   "source": [
    "df_perf = df_perf.drop(columns=['referredby'])\n",
    "df_perf['approveddate'] = pd.to_datetime(df_perf['approveddate']).dt.date\n",
    "df_perf['creationdate'] = pd.to_datetime(df_perf['creationdate']).dt.date\n",
    "df_perf[\"good_bad_flag\"] = df_perf.good_bad_flag.map({\"Good\": 1, \"Bad\": 0})"
   ]
  },
  {
   "cell_type": "markdown",
   "id": "c30050eb",
   "metadata": {},
   "source": [
    "### Merge datasets"
   ]
  },
  {
   "cell_type": "markdown",
   "id": "afcde1ec",
   "metadata": {},
   "source": [
    "- Create 'good_bad_flag' fearure in the Previous Loans data\n",
    "- For loans of 30days and below, payment on or before the end of 'termdays' is good, otherwise, bad\n",
    "- For loans of 60days and more, payments before 'firstduedate' is good, otherwise, bad"
   ]
  },
  {
   "cell_type": "code",
   "execution_count": 22,
   "id": "1649856a",
   "metadata": {},
   "outputs": [],
   "source": [
    "df_prev.loc[df_prev.termdays<=30, \"good_bad_flag\"] = ((df_prev.closeddate - df_prev.approveddate)<=\n",
    "                                                      pd.to_timedelta(df_prev['termdays'], unit='D')).astype(int)\n",
    "df_prev.loc[df_prev.termdays>30, \"good_bad_flag\"] = (df_prev.firstrepaiddate <= df_prev.firstduedate).astype(int)"
   ]
  },
  {
   "cell_type": "code",
   "execution_count": 23,
   "id": "75745b77",
   "metadata": {},
   "outputs": [],
   "source": [
    "# Drop 'closeddate', 'firstduedate', 'firstrepaiddate' from Previous Loans data for merge\n",
    "df_prev = df_prev.drop(columns=['closeddate', 'firstduedate', 'firstrepaiddate'])"
   ]
  },
  {
   "cell_type": "code",
   "execution_count": 24,
   "id": "5db40dc7",
   "metadata": {},
   "outputs": [],
   "source": [
    "# Add a variable to distinguish repeat loans\n",
    "df_perf[\"repeat\"] = 1\n",
    "df_prev[\"repeat\"] = 0"
   ]
  },
  {
   "cell_type": "code",
   "execution_count": 25,
   "id": "d9e1b1e4",
   "metadata": {},
   "outputs": [],
   "source": [
    "df_loans = pd.concat([df_perf, df_prev])\n",
    "df_train = pd.merge(df_loans,df_demo, on=\"customerid\", how='left')"
   ]
  },
  {
   "cell_type": "code",
   "execution_count": 26,
   "id": "480d8906",
   "metadata": {},
   "outputs": [],
   "source": [
    "df_train = df_train.drop(columns=['approveddate', 'creationdate'])"
   ]
  },
  {
   "cell_type": "markdown",
   "id": "eeb88023",
   "metadata": {},
   "source": [
    "## Test data"
   ]
  },
  {
   "cell_type": "code",
   "execution_count": 27,
   "id": "e4ca8329",
   "metadata": {},
   "outputs": [],
   "source": [
    "test_demo = pd.read_csv(\"data/testdemographics.csv\").drop_duplicates()\n",
    "test_prev = pd.read_csv(\"data/testprevloans.csv\").drop_duplicates()\n",
    "test_perf = pd.read_csv(\"data/testperf.csv\").drop_duplicates()"
   ]
  },
  {
   "cell_type": "code",
   "execution_count": 28,
   "id": "68262d4e",
   "metadata": {},
   "outputs": [
    {
     "data": {
      "text/plain": [
       "Index(['customerid', 'birthdate', 'bank_account_type', 'longitude_gps',\n",
       "       'latitude_gps', 'bank_name_clients', 'bank_branch_clients',\n",
       "       'employment_status_clients', 'level_of_education_clients'],\n",
       "      dtype='object')"
      ]
     },
     "execution_count": 28,
     "metadata": {},
     "output_type": "execute_result"
    }
   ],
   "source": [
    "test_demo.columns"
   ]
  },
  {
   "cell_type": "code",
   "execution_count": 29,
   "id": "8e4a7165",
   "metadata": {},
   "outputs": [],
   "source": [
    "test_demo['birthdate'] = pd.to_datetime(test_demo['birthdate']).dt.date\n",
    "test_demo = test_demo.drop(columns=['bank_branch_clients', 'level_of_education_clients'])\n",
    "test_demo[\"employment_status_clients\"].fillna(\"UNKNOWN\", inplace = True)"
   ]
  },
  {
   "cell_type": "code",
   "execution_count": 30,
   "id": "f07943ac",
   "metadata": {
    "scrolled": true
   },
   "outputs": [
    {
     "data": {
      "text/plain": [
       "Index(['customerid', 'systemloanid', 'loannumber', 'approveddate',\n",
       "       'creationdate', 'loanamount', 'totaldue', 'termdays', 'closeddate',\n",
       "       'referredby', 'firstduedate', 'firstrepaiddate'],\n",
       "      dtype='object')"
      ]
     },
     "execution_count": 30,
     "metadata": {},
     "output_type": "execute_result"
    }
   ],
   "source": [
    "test_prev.columns"
   ]
  },
  {
   "cell_type": "code",
   "execution_count": 31,
   "id": "2114a5b9",
   "metadata": {},
   "outputs": [],
   "source": [
    "test_prev = test_prev.drop(columns=['referredby'])\n",
    "test_prev['approveddate'] = pd.to_datetime(test_prev['approveddate']).dt.date\n",
    "test_prev['creationdate'] = pd.to_datetime(test_prev['creationdate']).dt.date\n",
    "test_prev['closeddate'] = pd.to_datetime(test_prev['closeddate']).dt.date\n",
    "test_prev['firstduedate'] = pd.to_datetime(test_prev['firstduedate']).dt.date\n",
    "test_prev['firstrepaiddate'] = pd.to_datetime(test_prev['firstrepaiddate']).dt.date\n"
   ]
  },
  {
   "cell_type": "code",
   "execution_count": 32,
   "id": "5a4059f1",
   "metadata": {},
   "outputs": [],
   "source": [
    "test_prev.loc[test_prev.termdays<=30, \"good_bad_flag\"] = ((test_prev.closeddate - test_prev.approveddate)<=\n",
    "                                                      pd.to_timedelta(test_prev['termdays'], unit='D')).astype(int)\n",
    "test_prev.loc[test_prev.termdays>30, \"good_bad_flag\"] = (test_prev.firstrepaiddate <= test_prev.firstduedate).astype(int)"
   ]
  },
  {
   "cell_type": "code",
   "execution_count": 33,
   "id": "4a063c99",
   "metadata": {},
   "outputs": [],
   "source": [
    "y_true = test_prev['good_bad_flag']"
   ]
  },
  {
   "cell_type": "code",
   "execution_count": 34,
   "id": "b746ee74",
   "metadata": {},
   "outputs": [],
   "source": [
    "# Drop 'closeddate', 'firstduedate', 'firstrepaiddate' from Previous Loans data for merge\n",
    "test_prev = test_prev.drop(columns=['approveddate', 'creationdate', 'closeddate', \n",
    "                                    'firstduedate', 'firstrepaiddate', 'good_bad_flag'])"
   ]
  },
  {
   "cell_type": "code",
   "execution_count": 35,
   "id": "137a00b5",
   "metadata": {
    "scrolled": true
   },
   "outputs": [
    {
     "data": {
      "text/plain": [
       "Index(['customerid', 'systemloanid', 'loannumber', 'approveddate',\n",
       "       'creationdate', 'loanamount', 'totaldue', 'termdays', 'referredby'],\n",
       "      dtype='object')"
      ]
     },
     "execution_count": 35,
     "metadata": {},
     "output_type": "execute_result"
    }
   ],
   "source": [
    "test_perf.columns"
   ]
  },
  {
   "cell_type": "code",
   "execution_count": 36,
   "id": "975d25e5",
   "metadata": {},
   "outputs": [],
   "source": [
    "test_perf = test_perf.drop(columns=['referredby','approveddate','creationdate'])"
   ]
  },
  {
   "cell_type": "code",
   "execution_count": 37,
   "id": "c5f27cad",
   "metadata": {},
   "outputs": [],
   "source": [
    "# Add a variable to distinguish repeat loans\n",
    "test_perf[\"repeat\"] = 1\n",
    "test_prev[\"repeat\"] = 0"
   ]
  },
  {
   "cell_type": "code",
   "execution_count": 38,
   "id": "7716e635",
   "metadata": {},
   "outputs": [],
   "source": [
    "test_loans = pd.concat([test_perf, test_prev])\n",
    "df_test = pd.merge(test_loans,test_demo, on=\"customerid\", how='left')"
   ]
  },
  {
   "cell_type": "markdown",
   "id": "255481dd",
   "metadata": {},
   "source": [
    "# Exploratory Data Analysis"
   ]
  },
  {
   "cell_type": "code",
   "execution_count": 92,
   "id": "d62d90ed",
   "metadata": {},
   "outputs": [
    {
     "data": {
      "text/plain": [
       "customerid                      0\n",
       "systemloanid                    0\n",
       "loannumber                      0\n",
       "loanamount                      0\n",
       "totaldue                        0\n",
       "termdays                        0\n",
       "good_bad_flag                   0\n",
       "repeat                          0\n",
       "birthdate                    5609\n",
       "bank_account_type            5609\n",
       "longitude_gps                5609\n",
       "latitude_gps                 5609\n",
       "bank_name_clients            5609\n",
       "employment_status_clients    5609\n",
       "dtype: int64"
      ]
     },
     "execution_count": 92,
     "metadata": {},
     "output_type": "execute_result"
    }
   ],
   "source": [
    "df_train.isnull().sum()"
   ]
  },
  {
   "cell_type": "markdown",
   "id": "09c35ffe",
   "metadata": {},
   "source": [
    "- Begin by using the part of the dataset without null values."
   ]
  },
  {
   "cell_type": "code",
   "execution_count": 93,
   "id": "dd31e4e7",
   "metadata": {},
   "outputs": [
    {
     "name": "stderr",
     "output_type": "stream",
     "text": [
      "/tmp/ipykernel_147083/3739183169.py:2: SettingWithCopyWarning: \n",
      "A value is trying to be set on a copy of a slice from a DataFrame.\n",
      "Try using .loc[row_indexer,col_indexer] = value instead\n",
      "\n",
      "See the caveats in the documentation: https://pandas.pydata.org/pandas-docs/stable/user_guide/indexing.html#returning-a-view-versus-a-copy\n",
      "  use_train[\"age\"] = 2024 - pd.to_datetime(use_train['birthdate']).dt.year\n"
     ]
    }
   ],
   "source": [
    "use_train = df_train.dropna()\n",
    "use_train[\"age\"] = 2024 - pd.to_datetime(use_train['birthdate']).dt.year"
   ]
  },
  {
   "cell_type": "code",
   "execution_count": 94,
   "id": "b4ae7fc8",
   "metadata": {},
   "outputs": [],
   "source": [
    "columns = [\"loannumber\",\"loanamount\",\"totaldue\",\"termdays\",\"repeat\",\"age\",\"bank_account_type\",\n",
    "           \"longitude_gps\",\"latitude_gps\",\"bank_name_clients\",\"employment_status_clients\", \"good_bad_flag\"]"
   ]
  },
  {
   "cell_type": "code",
   "execution_count": 95,
   "id": "d4d11d92",
   "metadata": {
    "scrolled": true
   },
   "outputs": [
    {
     "data": {
      "text/plain": [
       "loannumber                     int64\n",
       "loanamount                   float64\n",
       "totaldue                     float64\n",
       "termdays                       int64\n",
       "repeat                         int64\n",
       "age                            int32\n",
       "bank_account_type             object\n",
       "longitude_gps                float64\n",
       "latitude_gps                 float64\n",
       "bank_name_clients             object\n",
       "employment_status_clients     object\n",
       "good_bad_flag                float64\n",
       "dtype: object"
      ]
     },
     "execution_count": 95,
     "metadata": {},
     "output_type": "execute_result"
    }
   ],
   "source": [
    "use_train = use_train[columns]\n",
    "use_train.dtypes"
   ]
  },
  {
   "cell_type": "code",
   "execution_count": 97,
   "id": "474d48ed",
   "metadata": {},
   "outputs": [],
   "source": [
    "corr = use_train.select_dtypes(include=\"number\").corr()"
   ]
  },
  {
   "cell_type": "code",
   "execution_count": 101,
   "id": "161be232",
   "metadata": {},
   "outputs": [
    {
     "data": {
      "text/plain": [
       "<Axes: >"
      ]
     },
     "execution_count": 101,
     "metadata": {},
     "output_type": "execute_result"
    },
    {
     "data": {
      "image/png": "[encoded data removed]",
      "text/plain": [
       "<Figure size 640x480 with 2 Axes>"
      ]
     },
     "metadata": {},
     "output_type": "display_data"
    }
   ],
   "source": [
    "sns.heatmap(corr, cmap=\"crest\")"
   ]
  },
  {
   "cell_type": "markdown",
   "id": "2f9d9c9c",
   "metadata": {},
   "source": [
    "- Totaldue and loanamount are almost perfectly correlated, i.e, redundancy.\n",
    "- Drop loanamount"
   ]
  },
  {
   "cell_type": "code",
   "execution_count": 103,
   "id": "a8dd4f02",
   "metadata": {},
   "outputs": [],
   "source": [
    "use_train = use_train.drop(columns=\"loanamount\")"
   ]
  },
  {
   "cell_type": "markdown",
   "id": "189040e7",
   "metadata": {},
   "source": [
    "- plot scatter plot of numerical features to target variable"
   ]
  },
  {
   "cell_type": "code",
   "execution_count": 107,
   "id": "a5784804",
   "metadata": {},
   "outputs": [
    {
     "data": {
      "image/png": "[encoded data removed]",
      "text/plain": [
       "<Figure size 640x480 with 1 Axes>"
      ]
     },
     "metadata": {},
     "output_type": "display_data"
    }
   ],
   "source": [
    "import numpy as np\n",
    "import matplotlib.pyplot as plt\n",
    "# Jitter the binary target for better visibility\n",
    "jittered_target = use_train['good_bad_flag'] + np.random.normal(0, 0.02, size=len(use_train))\n",
    "plt.scatter(jittered_target, use_train['loannumber'], alpha=0.5)\n",
    "plt.xlabel(\"Binary Target (Jittered)\")\n",
    "plt.ylabel(\"Numerical Variable\")\n",
    "plt.title(\"Scatter Plot of Numerical Variable vs Binary Target\")\n",
    "plt.show()\n"
   ]
  },
  {
   "cell_type": "code",
   "execution_count": 108,
   "id": "e026d9e1",
   "metadata": {},
   "outputs": [
    {
     "data": {
      "image/png": "[encoded data removed]",
      "text/plain": [
       "<Figure size 640x480 with 1 Axes>"
      ]
     },
     "metadata": {},
     "output_type": "display_data"
    }
   ],
   "source": [
    "import seaborn as sns\n",
    "import matplotlib.pyplot as plt\n",
    "\n",
    "sns.boxplot(x='good_bad_flag', y='loannumber', data=use_train)\n",
    "plt.title(\"Box Plot of Numerical Variable by Binary Target\")\n",
    "plt.show()"
   ]
  },
  {
   "cell_type": "code",
   "execution_count": 83,
   "id": "be77c768",
   "metadata": {},
   "outputs": [
    {
     "data": {
      "text/plain": [
       "employment_status_clients\n",
       "Permanent        11458\n",
       "Self-Employed     2596\n",
       "UNKNOWN           1856\n",
       "Student            726\n",
       "Unemployed         262\n",
       "Retired             33\n",
       "Contract            11\n",
       "Name: count, dtype: int64"
      ]
     },
     "execution_count": 83,
     "metadata": {},
     "output_type": "execute_result"
    }
   ],
   "source": [
    "df_train.employment_status_clients.value_counts()"
   ]
  },
  {
   "cell_type": "markdown",
   "id": "64473fc3",
   "metadata": {},
   "source": [
    "- plot the target variable"
   ]
  },
  {
   "cell_type": "markdown",
   "id": "a50f9721",
   "metadata": {},
   "source": [
    "### To-do\n",
    "- Extract age from birthdate and drop it\n",
    "- Fill in missing age with nearest neighbour method\n",
    "- Add UNKNOWN category for object types\n",
    "- Encode missing lat and long with 0."
   ]
  }
 ],
 "metadata": {
  "kernelspec": {
   "display_name": "Python 3 (ipykernel)",
   "language": "python",
   "name": "python3"
  },
  "language_info": {
   "codemirror_mode": {
    "name": "ipython",
    "version": 3
   },
   "file_extension": ".py",
   "mimetype": "text/x-python",
   "name": "python",
   "nbconvert_exporter": "python",
   "pygments_lexer": "ipython3",
   "version": "3.11.5"
  }
 },
 "nbformat": 4,
 "nbformat_minor": 5
}
